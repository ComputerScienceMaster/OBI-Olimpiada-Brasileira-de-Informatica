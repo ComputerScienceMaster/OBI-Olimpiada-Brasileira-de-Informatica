{
  "nbformat": 4,
  "nbformat_minor": 0,
  "metadata": {
    "colab": {
      "name": "Fase_01_Idade_de_Camila.ipynb",
      "provenance": [],
      "collapsed_sections": []
    },
    "kernelspec": {
      "name": "python3",
      "display_name": "Python 3"
    },
    "language_info": {
      "name": "python"
    }
  },
  "cells": [
    {
      "cell_type": "markdown",
      "source": [
        "Acesse a Colinha: https://www.pythoncheatsheet.org/cheatsheet/control-flow"
      ],
      "metadata": {
        "id": "q9mmn4uyWOJe"
      }
    },
    {
      "cell_type": "code",
      "source": [
        ""
      ],
      "metadata": {
        "id": "Tr7haVlEWS7V"
      },
      "execution_count": null,
      "outputs": []
    },
    {
      "cell_type": "markdown",
      "source": [
        "Enunciado: https://olimpiada.ic.unicamp.br/pratique/pj/2021/f1/idade/"
      ],
      "metadata": {
        "id": "Hz2wluQWSDU4"
      }
    },
    {
      "cell_type": "markdown",
      "source": [
        ""
      ],
      "metadata": {
        "id": "u-qBoQU3WR7T"
      }
    },
    {
      "cell_type": "code",
      "source": [
        "a,b,c = input(\"Digite 3 idades\").split()\n",
        "\n",
        "a = int(a)\n",
        "b = int(b)\n",
        "c = int(c)"
      ],
      "metadata": {
        "colab": {
          "base_uri": "https://localhost:8080/"
        },
        "id": "Z_-vYJ0FSGuX",
        "outputId": "79dcbd6d-c14d-475f-93f8-c9b678aa15d8"
      },
      "execution_count": 22,
      "outputs": [
        {
          "name": "stdout",
          "output_type": "stream",
          "text": [
            "Digite 3 idades91 91 91\n"
          ]
        }
      ]
    },
    {
      "cell_type": "code",
      "source": [
        "if ((a >= 5 and a <= 100) and (b >= 5 and b <= 100) and (c  >= 5 and c <= 100)):\n",
        "  if(a > b and a < c):\n",
        "    print(a)\n",
        "  elif (b > a and b < c):\n",
        "    print(b)\n",
        "  else:\n",
        "    print(c)"
      ],
      "metadata": {
        "id": "yWVhfA40TClm",
        "outputId": "40e14bc1-c87a-4e4d-eb1b-16a6abb2afa8",
        "colab": {
          "base_uri": "https://localhost:8080/"
        }
      },
      "execution_count": 23,
      "outputs": [
        {
          "output_type": "stream",
          "name": "stdout",
          "text": [
            "91\n"
          ]
        }
      ]
    }
  ]
}
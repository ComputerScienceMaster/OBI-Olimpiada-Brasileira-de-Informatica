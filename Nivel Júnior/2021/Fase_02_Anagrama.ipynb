{
  "nbformat": 4,
  "nbformat_minor": 0,
  "metadata": {
    "colab": {
      "name": "Fase_01_Torneio_de_tenis.ipynb",
      "provenance": [],
      "collapsed_sections": []
    },
    "kernelspec": {
      "name": "python3",
      "display_name": "Python 3"
    },
    "language_info": {
      "name": "python"
    }
  },
  "cells": [
    {
      "cell_type": "markdown",
      "source": [
        "Colinha: https://www.pythoncheatsheet.org/cheatsheet/control-flow\n",
        "\n",
        "Enunciado: https://olimpiada.ic.unicamp.br/pratique/pj/2021/f1/torneio/"
      ],
      "metadata": {
        "id": "pxCRtibHb4y9"
      }
    },
    {
      "cell_type": "code",
      "execution_count": 7,
      "metadata": {
        "colab": {
          "base_uri": "https://localhost:8080/"
        },
        "id": "aB4shJoCby77",
        "outputId": "fbe3f0f5-7cef-4884-a42a-f4649fd76b43"
      },
      "outputs": [
        {
          "output_type": "stream",
          "name": "stdout",
          "text": [
            "Digite os resultados dos jogosv v v p p p\n",
            "2\n"
          ]
        }
      ],
      "source": [
        "jogos = input(\"Digite os resultados dos jogos\").split()\n",
        "\n",
        "\n",
        "#numVitorias = jogos.count('v')\n",
        "\n",
        "numVitorias = 0\n",
        "for i in range(0, len(jogos)):\n",
        "  if jogos[i] == \"v\":\n",
        "    numVitorias += 1\n",
        "\n",
        "if numVitorias >= 5 and numVitorias <= 6:\n",
        "  print(1)\n",
        "elif numVitorias >= 3 and numVitorias <= 4:\n",
        "  print(2)\n",
        "elif numVitorias >= 1 and numVitorias <= 2:\n",
        "  print(3)\n",
        "else:\n",
        "  print(-1)"
      ]
    }
  ]
}
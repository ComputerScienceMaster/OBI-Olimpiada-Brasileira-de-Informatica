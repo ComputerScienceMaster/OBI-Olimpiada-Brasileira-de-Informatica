{
  "nbformat": 4,
  "nbformat_minor": 0,
  "metadata": {
    "colab": {
      "name": "Fase_01_Plano_de_internet.ipynb",
      "provenance": [],
      "collapsed_sections": []
    },
    "kernelspec": {
      "name": "python3",
      "display_name": "Python 3"
    },
    "language_info": {
      "name": "python"
    }
  },
  "cells": [
    {
      "cell_type": "markdown",
      "source": [
        "Colinha: https://www.pythoncheatsheet.org/cheatsheet/control-flow\n",
        "\n",
        "Enunciado: https://olimpiada.ic.unicamp.br/pratique/pj/2021/f1/plano/"
      ],
      "metadata": {
        "id": "47_YIiMvWvN_"
      }
    },
    {
      "cell_type": "code",
      "execution_count": 8,
      "metadata": {
        "colab": {
          "base_uri": "https://localhost:8080/"
        },
        "id": "b3PBAInEWcHL",
        "outputId": "8e581692-b558-4e03-8de0-b5a81530dd88"
      },
      "outputs": [
        {
          "output_type": "stream",
          "name": "stdout",
          "text": [
            "Digite a quota mensal100\n",
            "Digite a quantidade de meses do contrato2\n",
            "Digite a quantidade gasta no mes 1100\n",
            "Digite a quantidade gasta no mes 2100\n",
            "100\n"
          ]
        }
      ],
      "source": [
        "x = int(input(\"Digite a quota mensal\"))\n",
        "n = int(input(\"Digite a quantidade de meses do contrato\"))\n",
        "\n",
        "if n > 1 and n < 100:\n",
        "  quotaAtual = x\n",
        "  for i in range(0, n):\n",
        "    m = int(input(\"Digite a quantidade gasta no mes \" +  str(i + 1)))\n",
        "    if m <= quotaAtual:\n",
        "      quotaAtual = quotaAtual - m\n",
        "    else:\n",
        "      print(\"você excedeu a quota disponível\")\n",
        "    quotaAtual = quotaAtual + x\n",
        "  print(quotaAtual)\n",
        "\n",
        "\n"
      ]
    }
  ]
}
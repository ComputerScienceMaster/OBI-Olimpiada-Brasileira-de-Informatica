{
  "nbformat": 4,
  "nbformat_minor": 0,
  "metadata": {
    "colab": {
      "name": "Fase_02_Duplas de tenis.ipynb",
      "provenance": [],
      "collapsed_sections": []
    },
    "kernelspec": {
      "name": "python3",
      "display_name": "Python 3"
    },
    "language_info": {
      "name": "python"
    }
  },
  "cells": [
    {
      "cell_type": "markdown",
      "source": [],
      "metadata": {
        "id": "DAADtx0qfCAM"
      }
    },
    {
      "cell_type": "markdown",
      "source": [
        "Colinha: https://www.pythoncheatsheet.org/cheatsheet/control-flow\n",
        "\n",
        "Enunciado: https://olimpiada.ic.unicamp.br/pratique/pj/2021/f2/tenis/"
      ],
      "metadata": {
        "id": "pxCRtibHb4y9"
      }
    },
    {
      "cell_type": "code",
      "execution_count": 8,
      "metadata": {
        "colab": {
          "base_uri": "https://localhost:8080/"
        },
        "id": "aB4shJoCby77",
        "outputId": "f8eb5b69-6f2b-4b83-ec83-9a5ab4b5c0a3"
      },
      "outputs": [
        {
          "output_type": "stream",
          "name": "stdout",
          "text": [
            "0\n",
            "0\n",
            "1\n",
            "1000\n",
            "1001 999 999\n",
            "999\n"
          ]
        }
      ],
      "source": [
        "a = int(input())\n",
        "b = int(input())\n",
        "c = int(input())\n",
        "d = int(input())\n",
        "\n",
        "menor = 10000\n",
        "if 0 <= a <= b <= c <=d <= 10000:\n",
        "  time1 = abs((a+b) - (c+d))\n",
        "  time2 = abs((a+c) - (b+d))\n",
        "  time3 = abs((a+d) - (c+b))\n",
        "\n",
        "  if time1 <= time2 and time1 <= time3:\n",
        "    menor = time1\n",
        "  elif time2 <= time1 and time2 <= time3:\n",
        "    menor = time2\n",
        "  elif time3 <= time1 and time3 <= time2:\n",
        "    menor = time3\n",
        "  print(menor)\n"
      ]
    }
  ]
}